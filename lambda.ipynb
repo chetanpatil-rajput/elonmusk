{
 "cells": [
  {
   "cell_type": "code",
   "execution_count": 3,
   "id": "91d215c1-8bf4-4c26-b259-84f438660df5",
   "metadata": {},
   "outputs": [],
   "source": [
    "city = ['pune','mumbai','delhi','delhi','chennai','banglore','banglore','pune','pune','mumbai']"
   ]
  },
  {
   "cell_type": "code",
   "execution_count": 5,
   "id": "59eecd7c-2015-462b-9c4c-d9f59125f092",
   "metadata": {},
   "outputs": [],
   "source": [
    "city = list(map(lambda x:100 if x == \"pune\" else 200 if x==\"mumbai\" else 500 if x==\"delhi\" else 400 if x==\"chennai\" else 300,city))"
   ]
  },
  {
   "cell_type": "code",
   "execution_count": 7,
   "id": "d710ae7b-face-4e56-aac0-cefe4ed5c90a",
   "metadata": {},
   "outputs": [
    {
     "data": {
      "text/plain": [
       "[100, 200, 500, 500, 400, 300, 300, 100, 100, 200]"
      ]
     },
     "execution_count": 7,
     "metadata": {},
     "output_type": "execute_result"
    }
   ],
   "source": [
    "city"
   ]
  },
  {
   "cell_type": "code",
   "execution_count": null,
   "id": "63daf6a0-377a-4bca-9813-8fed626d6611",
   "metadata": {},
   "outputs": [],
   "source": [
    "by loop ="
   ]
  },
  {
   "cell_type": "code",
   "execution_count": 31,
   "id": "67b3c69c-279b-42d3-a0eb-e647abede8c4",
   "metadata": {},
   "outputs": [],
   "source": [
    "city = ['pune','mumbai','delhi','delhi','chennai','banglore','banglore','pune','pune','mumbai']"
   ]
  },
  {
   "cell_type": "code",
   "execution_count": 47,
   "id": "938e306f-2af8-45f7-8562-6aa5a846f011",
   "metadata": {},
   "outputs": [],
   "source": [
    "p = [66,35,75,78,76,43]"
   ]
  },
  {
   "cell_type": "code",
   "execution_count": 51,
   "id": "f04fc43d-b661-4beb-8894-09dea773a959",
   "metadata": {},
   "outputs": [],
   "source": [
    "q = list(filter(lambda x:x%2==0,p))"
   ]
  },
  {
   "cell_type": "code",
   "execution_count": 53,
   "id": "a89ecdc5-c6fe-46e3-adbd-fd6fbed35c5d",
   "metadata": {},
   "outputs": [
    {
     "data": {
      "text/plain": [
       "[66, 78, 76]"
      ]
     },
     "execution_count": 53,
     "metadata": {},
     "output_type": "execute_result"
    }
   ],
   "source": [
    "q"
   ]
  },
  {
   "cell_type": "code",
   "execution_count": 55,
   "id": "ad80aac1-a591-4f21-9d92-5486cba676d9",
   "metadata": {},
   "outputs": [],
   "source": [
    "s = list(map(lambda x:x**2,q))"
   ]
  },
  {
   "cell_type": "code",
   "execution_count": 57,
   "id": "e4c23577-b246-4018-b445-592204fcf4f0",
   "metadata": {},
   "outputs": [
    {
     "data": {
      "text/plain": [
       "[4356, 6084, 5776]"
      ]
     },
     "execution_count": 57,
     "metadata": {},
     "output_type": "execute_result"
    }
   ],
   "source": [
    "s"
   ]
  },
  {
   "cell_type": "code",
   "execution_count": 41,
   "id": "43f13365-6701-477f-afdd-0a99b3b1146e",
   "metadata": {},
   "outputs": [],
   "source": [
    "def email_creation(username,password):\n",
    "    \n",
    "    email=username+''+password+'@gmail.com'\n",
    "    print(email)"
   ]
  },
  {
   "cell_type": "code",
   "execution_count": 43,
   "id": "83a7b252-e9f0-467e-9e08-8827c864492a",
   "metadata": {},
   "outputs": [
    {
     "name": "stdout",
     "output_type": "stream",
     "text": [
      "chetanpatil@gmail.com\n"
     ]
    }
   ],
   "source": [
    "email_creation('chetan','patil')"
   ]
  },
  {
   "cell_type": "code",
   "execution_count": 51,
   "id": "f92072f2-0d51-42a7-ae92-6b607b3c791c",
   "metadata": {},
   "outputs": [
    {
     "name": "stdout",
     "output_type": "stream",
     "text": [
      "even numbers are: [66, 78, 76]\n",
      "even numbers squre are: [4356, 6084, 5776]\n",
      "odd numbers are: [35, 75, 43]\n"
     ]
    }
   ],
   "source": [
    "even = []\n",
    "odd = []\n",
    "even_num_squre=[]\n",
    "p = [66,35,75,78,76,43]\n",
    "for i in p:\n",
    "    if i%2==0:\n",
    "        even.append(i)\n",
    "        even_num_squre.append(i**2)\n",
    "    else:\n",
    "        odd.append(i)\n",
    "\n",
    "print('even numbers are:',even)\n",
    "print('even numbers squre are:',even_num_squre)\n",
    "print('odd numbers are:',odd)\n",
    "   \n",
    "            "
   ]
  },
  {
   "cell_type": "code",
   "execution_count": 59,
   "id": "38c3eb91-1869-4472-87e0-25c7047187e9",
   "metadata": {},
   "outputs": [
    {
     "ename": "AttributeError",
     "evalue": "'function' object has no attribute 'append'",
     "output_type": "error",
     "traceback": [
      "\u001b[1;31m---------------------------------------------------------------------------\u001b[0m",
      "\u001b[1;31mAttributeError\u001b[0m                            Traceback (most recent call last)",
      "Cell \u001b[1;32mIn[59], line 17\u001b[0m\n\u001b[0;32m     15\u001b[0m     \u001b[38;5;28;01mreturn\u001b[39;00m a\n\u001b[0;32m     16\u001b[0m \u001b[38;5;28;01mif\u001b[39;00m \u001b[38;5;18m__name__\u001b[39m\u001b[38;5;241m==\u001b[39m\u001b[38;5;124m'\u001b[39m\u001b[38;5;124m__main__\u001b[39m\u001b[38;5;124m'\u001b[39m:\n\u001b[1;32m---> 17\u001b[0m     \u001b[38;5;28mprint\u001b[39m(main())\n",
      "Cell \u001b[1;32mIn[59], line 14\u001b[0m, in \u001b[0;36mmain\u001b[1;34m()\u001b[0m\n\u001b[0;32m     12\u001b[0m \u001b[38;5;28;01mdef\u001b[39;00m \u001b[38;5;21mmain\u001b[39m():\n\u001b[0;32m     13\u001b[0m     p \u001b[38;5;241m=\u001b[39m [\u001b[38;5;241m66\u001b[39m,\u001b[38;5;241m35\u001b[39m,\u001b[38;5;241m75\u001b[39m,\u001b[38;5;241m78\u001b[39m,\u001b[38;5;241m76\u001b[39m,\u001b[38;5;241m43\u001b[39m]\n\u001b[1;32m---> 14\u001b[0m     a \u001b[38;5;241m=\u001b[39m even_num_squre(p)\n\u001b[0;32m     15\u001b[0m     \u001b[38;5;28;01mreturn\u001b[39;00m a\n",
      "Cell \u001b[1;32mIn[59], line 8\u001b[0m, in \u001b[0;36meven_num_squre\u001b[1;34m(p)\u001b[0m\n\u001b[0;32m      6\u001b[0m \u001b[38;5;28;01mif\u001b[39;00m i\u001b[38;5;241m%\u001b[39m\u001b[38;5;241m2\u001b[39m\u001b[38;5;241m==\u001b[39m\u001b[38;5;241m0\u001b[39m:\n\u001b[0;32m      7\u001b[0m     even\u001b[38;5;241m.\u001b[39mappend(i)\n\u001b[1;32m----> 8\u001b[0m     even_num_squre\u001b[38;5;241m.\u001b[39mappend(i\u001b[38;5;241m*\u001b[39m\u001b[38;5;241m*\u001b[39m\u001b[38;5;241m2\u001b[39m)\n\u001b[0;32m      9\u001b[0m \u001b[38;5;28;01melse\u001b[39;00m:\n\u001b[0;32m     10\u001b[0m     odd\u001b[38;5;241m.\u001b[39mappend(i)\n",
      "\u001b[1;31mAttributeError\u001b[0m: 'function' object has no attribute 'append'"
     ]
    }
   ],
   "source": [
    "even = []\n",
    "even_num_squre=[]\n",
    "odd = []\n",
    "def even_num_squre(p):\n",
    "    for i in p:\n",
    "        if i%2==0:\n",
    "            even.append(i)\n",
    "            even_num_squre.append(i**2)\n",
    "        else:\n",
    "            odd.append(i)\n",
    "    return f\"even numbers are-{even}\\n even numbers squre-{even_num_squre}\\n odd numbers are-{odd}\"\n",
    "def main():\n",
    "    p = [66,35,75,78,76,43]\n",
    "    a = even_num_squre(p)\n",
    "    return a\n",
    "if __name__=='__main__':\n",
    "    print(main())\n",
    "            "
   ]
  },
  {
   "cell_type": "code",
   "execution_count": null,
   "id": "ac64e436-ac4d-4e32-8828-ea4ef94b9ddb",
   "metadata": {},
   "outputs": [],
   "source": []
  }
 ],
 "metadata": {
  "kernelspec": {
   "display_name": "Python [conda env:base] *",
   "language": "python",
   "name": "conda-base-py"
  },
  "language_info": {
   "codemirror_mode": {
    "name": "ipython",
    "version": 3
   },
   "file_extension": ".py",
   "mimetype": "text/x-python",
   "name": "python",
   "nbconvert_exporter": "python",
   "pygments_lexer": "ipython3",
   "version": "3.12.7"
  }
 },
 "nbformat": 4,
 "nbformat_minor": 5
}
